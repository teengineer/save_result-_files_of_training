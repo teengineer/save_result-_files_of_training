!yolo train model=yolov8x.pt data=custom_data_expanded.yaml epochs=50 imgsz=640

from os.path import exists

file_exists = exists('/content/runs/detect/train')

while 1==1:
  if file_exists:
     from google.colab import files
     !zip -r /content/runs/detect/train.zip /content/runs/detect/train
     files.download('/content/runs/detect/train.zip')
     break
  else:
    continue
